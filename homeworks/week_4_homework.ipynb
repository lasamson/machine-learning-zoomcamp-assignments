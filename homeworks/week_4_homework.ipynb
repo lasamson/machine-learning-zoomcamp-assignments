{
 "cells": [
  {
   "cell_type": "code",
   "execution_count": 1,
   "id": "57bdfc57-9793-4a1f-b5cf-92182dbb71a0",
   "metadata": {},
   "outputs": [],
   "source": [
    "import numpy as np\n",
    "import pandas as pd\n",
    "import matplotlib.pyplot as plt\n",
    "\n",
    "from sklearn.model_selection import train_test_split\n",
    "from sklearn.model_selection import KFold\n",
    "from sklearn.feature_extraction import DictVectorizer\n",
    "from sklearn.metrics import roc_auc_score\n",
    "from sklearn.linear_model import LogisticRegression\n",
    "\n",
    "from tqdm.auto import tqdm\n",
    "\n",
    "%matplotlib inline"
   ]
  },
  {
   "cell_type": "code",
   "execution_count": 2,
   "id": "167bbe65-f6ae-4a9c-9998-62df3dea7510",
   "metadata": {},
   "outputs": [],
   "source": [
    "# Seed for random functions\n",
    "SEED = 1"
   ]
  },
  {
   "cell_type": "markdown",
   "id": "9e9add52-b327-4dec-baea-567cee341588",
   "metadata": {},
   "source": [
    "## Dataset Preparation"
   ]
  },
  {
   "cell_type": "code",
   "execution_count": 3,
   "id": "57ef301f-daca-4403-8260-8b5cd2fba422",
   "metadata": {},
   "outputs": [
    {
     "data": {
      "text/html": [
       "<div>\n",
       "<style scoped>\n",
       "    .dataframe tbody tr th:only-of-type {\n",
       "        vertical-align: middle;\n",
       "    }\n",
       "\n",
       "    .dataframe tbody tr th {\n",
       "        vertical-align: top;\n",
       "    }\n",
       "\n",
       "    .dataframe thead th {\n",
       "        text-align: right;\n",
       "    }\n",
       "</style>\n",
       "<table border=\"1\" class=\"dataframe\">\n",
       "  <thead>\n",
       "    <tr style=\"text-align: right;\">\n",
       "      <th></th>\n",
       "      <th>age</th>\n",
       "      <th>job</th>\n",
       "      <th>marital</th>\n",
       "      <th>education</th>\n",
       "      <th>default</th>\n",
       "      <th>balance</th>\n",
       "      <th>housing</th>\n",
       "      <th>loan</th>\n",
       "      <th>contact</th>\n",
       "      <th>day</th>\n",
       "      <th>month</th>\n",
       "      <th>duration</th>\n",
       "      <th>campaign</th>\n",
       "      <th>pdays</th>\n",
       "      <th>previous</th>\n",
       "      <th>poutcome</th>\n",
       "      <th>y</th>\n",
       "    </tr>\n",
       "  </thead>\n",
       "  <tbody>\n",
       "    <tr>\n",
       "      <th>0</th>\n",
       "      <td>58</td>\n",
       "      <td>management</td>\n",
       "      <td>married</td>\n",
       "      <td>tertiary</td>\n",
       "      <td>no</td>\n",
       "      <td>2143</td>\n",
       "      <td>yes</td>\n",
       "      <td>no</td>\n",
       "      <td>unknown</td>\n",
       "      <td>5</td>\n",
       "      <td>may</td>\n",
       "      <td>261</td>\n",
       "      <td>1</td>\n",
       "      <td>-1</td>\n",
       "      <td>0</td>\n",
       "      <td>unknown</td>\n",
       "      <td>no</td>\n",
       "    </tr>\n",
       "    <tr>\n",
       "      <th>1</th>\n",
       "      <td>44</td>\n",
       "      <td>technician</td>\n",
       "      <td>single</td>\n",
       "      <td>secondary</td>\n",
       "      <td>no</td>\n",
       "      <td>29</td>\n",
       "      <td>yes</td>\n",
       "      <td>no</td>\n",
       "      <td>unknown</td>\n",
       "      <td>5</td>\n",
       "      <td>may</td>\n",
       "      <td>151</td>\n",
       "      <td>1</td>\n",
       "      <td>-1</td>\n",
       "      <td>0</td>\n",
       "      <td>unknown</td>\n",
       "      <td>no</td>\n",
       "    </tr>\n",
       "    <tr>\n",
       "      <th>2</th>\n",
       "      <td>33</td>\n",
       "      <td>entrepreneur</td>\n",
       "      <td>married</td>\n",
       "      <td>secondary</td>\n",
       "      <td>no</td>\n",
       "      <td>2</td>\n",
       "      <td>yes</td>\n",
       "      <td>yes</td>\n",
       "      <td>unknown</td>\n",
       "      <td>5</td>\n",
       "      <td>may</td>\n",
       "      <td>76</td>\n",
       "      <td>1</td>\n",
       "      <td>-1</td>\n",
       "      <td>0</td>\n",
       "      <td>unknown</td>\n",
       "      <td>no</td>\n",
       "    </tr>\n",
       "    <tr>\n",
       "      <th>3</th>\n",
       "      <td>47</td>\n",
       "      <td>blue-collar</td>\n",
       "      <td>married</td>\n",
       "      <td>unknown</td>\n",
       "      <td>no</td>\n",
       "      <td>1506</td>\n",
       "      <td>yes</td>\n",
       "      <td>no</td>\n",
       "      <td>unknown</td>\n",
       "      <td>5</td>\n",
       "      <td>may</td>\n",
       "      <td>92</td>\n",
       "      <td>1</td>\n",
       "      <td>-1</td>\n",
       "      <td>0</td>\n",
       "      <td>unknown</td>\n",
       "      <td>no</td>\n",
       "    </tr>\n",
       "    <tr>\n",
       "      <th>4</th>\n",
       "      <td>33</td>\n",
       "      <td>unknown</td>\n",
       "      <td>single</td>\n",
       "      <td>unknown</td>\n",
       "      <td>no</td>\n",
       "      <td>1</td>\n",
       "      <td>no</td>\n",
       "      <td>no</td>\n",
       "      <td>unknown</td>\n",
       "      <td>5</td>\n",
       "      <td>may</td>\n",
       "      <td>198</td>\n",
       "      <td>1</td>\n",
       "      <td>-1</td>\n",
       "      <td>0</td>\n",
       "      <td>unknown</td>\n",
       "      <td>no</td>\n",
       "    </tr>\n",
       "  </tbody>\n",
       "</table>\n",
       "</div>"
      ],
      "text/plain": [
       "   age           job  marital  education default  balance housing loan  \\\n",
       "0   58    management  married   tertiary      no     2143     yes   no   \n",
       "1   44    technician   single  secondary      no       29     yes   no   \n",
       "2   33  entrepreneur  married  secondary      no        2     yes  yes   \n",
       "3   47   blue-collar  married    unknown      no     1506     yes   no   \n",
       "4   33       unknown   single    unknown      no        1      no   no   \n",
       "\n",
       "   contact  day month  duration  campaign  pdays  previous poutcome   y  \n",
       "0  unknown    5   may       261         1     -1         0  unknown  no  \n",
       "1  unknown    5   may       151         1     -1         0  unknown  no  \n",
       "2  unknown    5   may        76         1     -1         0  unknown  no  \n",
       "3  unknown    5   may        92         1     -1         0  unknown  no  \n",
       "4  unknown    5   may       198         1     -1         0  unknown  no  "
      ]
     },
     "execution_count": 3,
     "metadata": {},
     "output_type": "execute_result"
    }
   ],
   "source": [
    "# Inspect the data\n",
    "df = pd.read_csv('../data/bank-full.csv', sep=';')\n",
    "df.head()"
   ]
  },
  {
   "cell_type": "code",
   "execution_count": 4,
   "id": "c03eafe8-d422-47c2-adf4-be956068fda9",
   "metadata": {},
   "outputs": [
    {
     "data": {
      "text/plain": [
       "age           int64\n",
       "job          object\n",
       "marital      object\n",
       "education    object\n",
       "default      object\n",
       "balance       int64\n",
       "housing      object\n",
       "loan         object\n",
       "contact      object\n",
       "day           int64\n",
       "month        object\n",
       "duration      int64\n",
       "campaign      int64\n",
       "pdays         int64\n",
       "previous      int64\n",
       "poutcome     object\n",
       "y            object\n",
       "dtype: object"
      ]
     },
     "execution_count": 4,
     "metadata": {},
     "output_type": "execute_result"
    }
   ],
   "source": [
    "# Feature data types\n",
    "df.dtypes"
   ]
  },
  {
   "cell_type": "code",
   "execution_count": 5,
   "id": "f0486505-9c46-4785-80b3-4632df48b9af",
   "metadata": {},
   "outputs": [],
   "source": [
    "# Relevant numerical and categorical features\n",
    "numerical = ['age', 'balance', 'day', 'duration', 'campaign', 'pdays', 'previous']\n",
    "categorical = ['job', 'marital', 'education', 'housing', 'contact', 'month', 'poutcome']"
   ]
  },
  {
   "cell_type": "code",
   "execution_count": 6,
   "id": "3bded1fb-f7db-4196-ae1c-f69bbdb91f0f",
   "metadata": {},
   "outputs": [],
   "source": [
    "# Split dataset into train/valid/test sets (60-20-20 split)\n",
    "df_full_train, df_test = train_test_split(df, test_size=0.2, random_state=SEED)\n",
    "df_train, df_val = train_test_split(df_full_train, test_size=(0.2/0.8), random_state=SEED)\n",
    "\n",
    "# Target variables\n",
    "y_train = df_train.y.values\n",
    "y_val = df_val.y.values\n",
    "y_test = df_test.y.values\n",
    "\n",
    "# Remove target variable from DataFrames\n",
    "del df_train['y']\n",
    "del df_val['y']\n",
    "del df_test['y']\n",
    "\n",
    "# Encode target variable\n",
    "y_train = (y_train == 'yes').astype(int)\n",
    "y_val = (y_val == 'yes').astype(int)\n",
    "y_test = (y_test == 'yes').astype(int)"
   ]
  },
  {
   "cell_type": "markdown",
   "id": "98818cab-ec75-4388-a4dc-b2576f7c46d7",
   "metadata": {},
   "source": [
    "## Question 1: ROC AUC feature importance\n",
    "\n",
    "ROC AUC could also be used to evaluate feature importance of numerical variables.\n",
    "\n",
    "Let's do that\n",
    "\n",
    "For each numerical variable, use it as score (aka prediction) and compute the AUC with the y variable as ground truth.\n",
    "Use the training dataset for that\n",
    "If your AUC is < 0.5, invert this variable by putting \"-\" in front\n",
    "\n",
    "(e.g. `-df_train['engine_hp']`)\n",
    "\n",
    "AUC can go below 0.5 if the variable is negatively correlated with the target variable. You can change the direction of the correlation by negating this variable - then negative correlation becomes positive.\n",
    "\n",
    "Which numerical variable (among the following 4) has the highest AUC?\n",
    "\n",
    "- `balance`\n",
    "- `day`\n",
    "- `duration`\n",
    "- `previous`"
   ]
  },
  {
   "cell_type": "code",
   "execution_count": 7,
   "id": "456d2139-e048-41fd-b049-930fb662bb9b",
   "metadata": {},
   "outputs": [
    {
     "name": "stdout",
     "output_type": "stream",
     "text": [
      "balance: 0.589\n",
      "day: 0.526\n",
      "duration: 0.815\n",
      "previous: 0.599\n"
     ]
    }
   ],
   "source": [
    "print('%s: %.3f' % ('balance', roc_auc_score(y_train, df_train['balance'].values)))\n",
    "print('%s: %.3f' % ('day', roc_auc_score(y_train, -df_train['day'].values)))\n",
    "print('%s: %.3f' % ('duration', roc_auc_score(y_train, df_train['duration'].values)))\n",
    "print('%s: %.3f' % ('previous', roc_auc_score(y_train, df_train['previous'].values)))"
   ]
  },
  {
   "cell_type": "markdown",
   "id": "405e1750-190f-4839-b152-5d948253de3b",
   "metadata": {},
   "source": [
    "**Answer**: `duration` has the highest AUC among the four numerical variables."
   ]
  },
  {
   "cell_type": "markdown",
   "id": "94e7a4d6-79df-46b1-9bcc-c4258f82402b",
   "metadata": {},
   "source": [
    "## Question 2: Training the model\n",
    "Apply one-hot-encoding using DictVectorizer and train the logistic regression with these parameters:\n",
    "\n",
    "```python\n",
    "LogisticRegression(solver='liblinear', C=1.0, max_iter=1000)\n",
    "```\n",
    "What's the AUC of this model on the validation dataset? (round to 3 digits)\n",
    "\n",
    "- 0.69\n",
    "- 0.79\n",
    "- 0.89\n",
    "- 0.99"
   ]
  },
  {
   "cell_type": "code",
   "execution_count": 8,
   "id": "55235998-6b27-48ad-911d-72aaf4732e97",
   "metadata": {},
   "outputs": [
    {
     "data": {
      "text/plain": [
       "0.8999780109216243"
      ]
     },
     "execution_count": 8,
     "metadata": {},
     "output_type": "execute_result"
    }
   ],
   "source": [
    "# Create train/valid dicts for DictVectorizer\n",
    "train_dict = df_train[categorical + numerical].to_dict(orient='records')\n",
    "val_dict = df_val[categorical + numerical].to_dict(orient='records')\n",
    "\n",
    "# Create DV, fit on train set, and obtain train/valid feature vectors\n",
    "dv = DictVectorizer(sparse=False)\n",
    "X_train = dv.fit_transform(train_dict)\n",
    "X_val = dv.transform(val_dict)\n",
    "\n",
    "# Train LogisticRegression model\n",
    "model = LogisticRegression(solver='liblinear', C=1.0, max_iter=1000, random_state=SEED)\n",
    "model.fit(X_train, y_train)\n",
    "\n",
    "# Predict on validation set\n",
    "y_pred = model.predict_proba(X_val)[:, 1]\n",
    "roc_auc_score(y_val, y_pred)"
   ]
  },
  {
   "cell_type": "markdown",
   "id": "de306461-4d04-42ba-847c-b93a0ba2bdcf",
   "metadata": {},
   "source": [
    "**Answer**: The AUC of this model on the validation set is 0.89."
   ]
  },
  {
   "cell_type": "markdown",
   "id": "d4e7ed49-2987-4ebf-a2e7-051620a974a8",
   "metadata": {},
   "source": [
    "## Question 3: Precision and Recall\n",
    "\n",
    "Now let's compute precision and recall for our model.\n",
    "\n",
    "- Evaluate the model on all thresholds from 0.0 to 1.0 with step 0.01\n",
    "- For each threshold, compute precision and recall\n",
    "- Plot them\n",
    "\n",
    "At which threshold precision and recall curves intersect?\n",
    "\n",
    "- 0.265\n",
    "- 0.465\n",
    "- 0.665\n",
    "- 0.865"
   ]
  },
  {
   "cell_type": "code",
   "execution_count": 9,
   "id": "d03373d8-d27b-408a-ba98-5158e0112b9b",
   "metadata": {},
   "outputs": [
    {
     "name": "stderr",
     "output_type": "stream",
     "text": [
      "/tmp/ipykernel_77672/415882134.py:14: RuntimeWarning: invalid value encountered in scalar divide\n",
      "  precision = tp / pred_pos\n"
     ]
    },
    {
     "data": {
      "image/png": "[encoded data removed]",
      "text/plain": [
       "<Figure size 640x480 with 1 Axes>"
      ]
     },
     "metadata": {},
     "output_type": "display_data"
    }
   ],
   "source": [
    "# Thresholds from 0 to 1 at .01 increments\n",
    "thresholds = np.linspace(0.0, 1.0, 101)\n",
    "\n",
    "# Store precision and recall values\n",
    "precisions = []\n",
    "recalls = []\n",
    "\n",
    "# Compute precision and recall for each threshold\n",
    "for t in thresholds:\n",
    "    tp = ((y_pred >= t).astype(int) & y_val).sum()\n",
    "    pred_pos = (y_pred >= t).sum()\n",
    "    actual_pos = y_val.sum()\n",
    "\n",
    "    precision = tp / pred_pos\n",
    "    recall = tp / actual_pos\n",
    "\n",
    "    precisions.append(precision)\n",
    "    recalls.append(recall)\n",
    "\n",
    "# Plot precision and recall as a function of threshold\n",
    "plt.plot(thresholds, precisions, label='precision')\n",
    "plt.plot(thresholds, recalls, label='recall')\n",
    "plt.legend()\n",
    "plt.show()"
   ]
  },
  {
   "cell_type": "code",
   "execution_count": 10,
   "id": "68264bcc-ac30-4bc0-8414-871b2e14988b",
   "metadata": {},
   "outputs": [
    {
     "data": {
      "text/plain": [
       "0.27"
      ]
     },
     "execution_count": 10,
     "metadata": {},
     "output_type": "execute_result"
    }
   ],
   "source": [
    "# Compute the point of intersection\n",
    "thresholds[np.array(precisions).round(2) == np.array(recalls).round(2)][0]"
   ]
  },
  {
   "cell_type": "markdown",
   "id": "cd8e0378-ab75-4492-a61c-a116836c96a3",
   "metadata": {},
   "source": [
    "**Answer**: The precision and recall curves intersect at t=0.265 or t=0.27."
   ]
  },
  {
   "cell_type": "markdown",
   "id": "ee0ef075-b688-461c-958b-ed8ac431e014",
   "metadata": {},
   "source": [
    "## Question 4: F1 score\n",
    "\n",
    "Precision and recall are conflicting - when one grows, the other goes down. That's why they are often combined into the F1 score - a metrics that takes into account both\n",
    "\n",
    "This is the formula for computing F1:\n",
    "\n",
    "$$F_1=2\\cdot\\frac{P\\cdot R}{P+R}$$\n",
    "\n",
    "Where $P$ is precision and $R$ is recall.\n",
    "\n",
    "Let's compute F1 for all thresholds from 0.0 to 1.0 with increment 0.01\n",
    "\n",
    "At which threshold F1 is maximal?\n",
    "\n",
    "- 0.02\n",
    "- 0.22\n",
    "- 0.42\n",
    "- 0.62"
   ]
  },
  {
   "cell_type": "code",
   "execution_count": 11,
   "id": "2e5b477a-aef4-400b-ae43-05d74c9af72c",
   "metadata": {},
   "outputs": [
    {
     "name": "stderr",
     "output_type": "stream",
     "text": [
      "/tmp/ipykernel_77672/224434616.py:15: RuntimeWarning: invalid value encountered in scalar divide\n",
      "  precision = tp / pred_pos\n"
     ]
    },
    {
     "data": {
      "image/png": "[encoded data removed]",
      "text/plain": [
       "<Figure size 640x480 with 1 Axes>"
      ]
     },
     "metadata": {},
     "output_type": "display_data"
    }
   ],
   "source": [
    "# Thresholds from 0 to 1 at .01 increments\n",
    "thresholds = np.linspace(0.0, 1.0, 101)\n",
    "\n",
    "# Store precision, recall, and F1 score values\n",
    "precisions = []\n",
    "recalls = []\n",
    "f1_scores = []\n",
    "\n",
    "# Compute precision, recall, and F1 score for each threshold\n",
    "for t in thresholds:\n",
    "    tp = ((y_pred >= t).astype(int) & y_val).sum()\n",
    "    pred_pos = (y_pred >= t).sum()\n",
    "    actual_pos = y_val.sum()\n",
    "\n",
    "    precision = tp / pred_pos\n",
    "    recall = tp / actual_pos\n",
    "    f1_score = 2 * (precision * recall) / (precision + recall)\n",
    "\n",
    "    precisions.append(precision)\n",
    "    recalls.append(recall)\n",
    "    f1_scores.append(f1_score)\n",
    "\n",
    "# Plot precision, recall, and F1 score as a function of threshold\n",
    "plt.plot(thresholds, precisions, label='precision')\n",
    "plt.plot(thresholds, recalls, label='recall')\n",
    "plt.plot(thresholds, f1_scores, label='f1_score')\n",
    "plt.legend()\n",
    "plt.show()"
   ]
  },
  {
   "cell_type": "code",
   "execution_count": 12,
   "id": "c8ed2a4e-0c82-462b-bba1-a94c87568bd4",
   "metadata": {},
   "outputs": [
    {
     "data": {
      "text/plain": [
       "0.22"
      ]
     },
     "execution_count": 12,
     "metadata": {},
     "output_type": "execute_result"
    }
   ],
   "source": [
    "# Find threshold with maximal F1 score\n",
    "f1_scores_no_nan = np.array(f1_scores)[:-1]\n",
    "max_idx = f1_scores_no_nan.argmax()\n",
    "thresholds[max_idx]"
   ]
  },
  {
   "cell_type": "markdown",
   "id": "b00bac12-a5fc-47bb-913e-32564ce9d3f9",
   "metadata": {},
   "source": [
    "**Answer**: The F1 score is maximal at t=0.22."
   ]
  },
  {
   "cell_type": "markdown",
   "id": "f0f8badd-fe44-43c6-8333-7868ed9ec403",
   "metadata": {},
   "source": [
    "## Question 5: 5-Fold CV\n",
    "\n",
    "Use the `KFold` class from Scikit-Learn to evaluate our model on 5 different folds:\n",
    "\n",
    "```python\n",
    "KFold(n_splits=5, shuffle=True, random_state=1)\n",
    "```\n",
    "- Iterate over different folds of `df_full_train`\n",
    "- Split the data into train and validation\n",
    "- Train the model on train with these parameters: `LogisticRegression(solver='liblinear', C=1.0, max_iter=1000)`\n",
    "- Use AUC to evaluate the model on validation\n",
    "\n",
    "How large is standard deviation of the scores across different folds?\n",
    "\n",
    "- 0.0001\n",
    "- 0.006\n",
    "- 0.06\n",
    "- 0.26"
   ]
  },
  {
   "cell_type": "code",
   "execution_count": 13,
   "id": "be1d721e-b76a-477a-82a4-eb8358a43afd",
   "metadata": {},
   "outputs": [],
   "source": [
    "# Utility functions for training and prediction\n",
    "def train(df_train, y_train, C=1.0):\n",
    "    dicts = df_train[categorical + numerical].to_dict(orient='records')\n",
    "\n",
    "    dv = DictVectorizer(sparse=False)\n",
    "    X_train = dv.fit_transform(dicts)\n",
    "\n",
    "    model = LogisticRegression(solver='liblinear', C=C, max_iter=1000, random_state=SEED)\n",
    "    model.fit(X_train, y_train)\n",
    "\n",
    "    return dv, model\n",
    "\n",
    "def predict(df, dv, model):\n",
    "    dicts = df[categorical + numerical].to_dict(orient='records')\n",
    "\n",
    "    X = dv.transform(dicts)\n",
    "    y_pred = model.predict_proba(X)[:, 1]\n",
    "\n",
    "    return y_pred"
   ]
  },
  {
   "cell_type": "code",
   "execution_count": 14,
   "id": "5d2ad153-8419-46b2-b01d-186a1816cfc8",
   "metadata": {},
   "outputs": [
    {
     "data": {
      "application/vnd.jupyter.widget-view+json": {
       "model_id": "1b6189a693264b4f9e3880f84b873254",
       "version_major": 2,
       "version_minor": 0
      },
      "text/plain": [
       "  0%|          | 0/5 [00:00<?, ?it/s]"
      ]
     },
     "metadata": {},
     "output_type": "display_data"
    },
    {
     "name": "stdout",
     "output_type": "stream",
     "text": [
      "AUC (C=1.0): 0.906 +- 0.006\n"
     ]
    }
   ],
   "source": [
    "# Number of folds k\n",
    "n_splits = 5\n",
    "\n",
    "# Holds AUC scores\n",
    "scores = []\n",
    "\n",
    "# Create KFold object with n_splits and shuffle=True\n",
    "kfold = KFold(n_splits=5, shuffle=True, random_state=SEED)\n",
    "\n",
    "# Iterate over the folds, train model, and record AUC\n",
    "for train_idx, valid_idx in tqdm(kfold.split(df_full_train), total=n_splits):\n",
    "    df_train = df_full_train.iloc[train_idx]\n",
    "    df_val = df_full_train.iloc[valid_idx]\n",
    "\n",
    "    y_train = (df_train.y.values == 'yes').astype(int)\n",
    "    y_val = (df_val.y.values == 'yes').astype(int)\n",
    "\n",
    "    dv, model = train(df_train, y_train, C=1.0)\n",
    "    y_pred = predict(df_val, dv, model)\n",
    "\n",
    "    auc = roc_auc_score(y_val, y_pred)\n",
    "    scores.append(auc)\n",
    "\n",
    "print('AUC (C=1.0): %.3f +- %.3f' % (np.mean(scores), np.std(scores)))"
   ]
  },
  {
   "cell_type": "markdown",
   "id": "2b93bcae-914b-4516-8b15-7355ef2ac445",
   "metadata": {},
   "source": [
    "**Answer**: The standard deviation across folds (C=1.0) is 0.006."
   ]
  },
  {
   "cell_type": "markdown",
   "id": "a0a8cef9-fdf6-413d-83a5-5147255358f0",
   "metadata": {},
   "source": [
    "## Question 6: Hyperparameter Tuning\n",
    "\n",
    "Now let's use 5-Fold cross-validation to find the best parameter `C`\n",
    "\n",
    "- Iterate over the following `C` values: `[0.000001, 0.001, 1]`\n",
    "- Initialize `KFold` with the same parameters as previously\n",
    "- Use these parameters for the model: `LogisticRegression(solver='liblinear', C=C, max_iter=1000)`\n",
    "- Compute the mean score as well as the std (round the mean and std to 3 decimal digits)\n",
    "\n",
    "Which `C` leads to the best mean score?\n",
    "\n",
    "- 0.000001\n",
    "- 0.001\n",
    "- 1\n",
    "\n",
    "If you have ties, select the score with the lowest std. If you still have ties, select the smallest C."
   ]
  },
  {
   "cell_type": "code",
   "execution_count": 15,
   "id": "cf4ac2f5-7c1c-4ab9-9ea7-bae357cc93fd",
   "metadata": {},
   "outputs": [
    {
     "data": {
      "application/vnd.jupyter.widget-view+json": {
       "model_id": "eb55b53771874201909b74750c9bb995",
       "version_major": 2,
       "version_minor": 0
      },
      "text/plain": [
       "  0%|          | 0/3 [00:00<?, ?it/s]"
      ]
     },
     "metadata": {},
     "output_type": "display_data"
    },
    {
     "name": "stdout",
     "output_type": "stream",
     "text": [
      "AUC (C=1e-06): 0.701 +- 0.009\n",
      "AUC (C=0.001): 0.861 +- 0.007\n",
      "AUC (C=1): 0.906 +- 0.006\n"
     ]
    }
   ],
   "source": [
    "# Number of folds k\n",
    "n_splits = 5\n",
    "\n",
    "for C in tqdm([0.000001, 0.001, 1]):\n",
    "    # Holds AUC scores\n",
    "    scores = []\n",
    "\n",
    "    # Create KFold object with n_splits and shuffle=True\n",
    "    kfold = KFold(n_splits=5, shuffle=True, random_state=SEED)\n",
    "    \n",
    "    # Iterate over the folds, train model, and record AUC\n",
    "    for train_idx, valid_idx in kfold.split(df_full_train):\n",
    "        df_train = df_full_train.iloc[train_idx]\n",
    "        df_val = df_full_train.iloc[valid_idx]\n",
    "    \n",
    "        y_train = (df_train.y.values == 'yes').astype(int)\n",
    "        y_val = (df_val.y.values == 'yes').astype(int)\n",
    "    \n",
    "        dv, model = train(df_train, y_train, C=C)\n",
    "        y_pred = predict(df_val, dv, model)\n",
    "    \n",
    "        auc = roc_auc_score(y_val, y_pred)\n",
    "        scores.append(auc)\n",
    "    \n",
    "    print('AUC (C=%s): %.3f +- %.3f' % (C, np.mean(scores), np.std(scores)))"
   ]
  },
  {
   "cell_type": "markdown",
   "id": "2f0e6a20-a170-4f24-942c-4f263729bc9b",
   "metadata": {},
   "source": [
    "**Answer**: C=1.0 leads to the best average score."
   ]
  }
 ],
 "metadata": {
  "kernelspec": {
   "display_name": "Python 3 (ipykernel)",
   "language": "python",
   "name": "python3"
  },
  "language_info": {
   "codemirror_mode": {
    "name": "ipython",
    "version": 3
   },
   "file_extension": ".py",
   "mimetype": "text/x-python",
   "name": "python",
   "nbconvert_exporter": "python",
   "pygments_lexer": "ipython3",
   "version": "3.11.9"
  }
 },
 "nbformat": 4,
 "nbformat_minor": 5
}
