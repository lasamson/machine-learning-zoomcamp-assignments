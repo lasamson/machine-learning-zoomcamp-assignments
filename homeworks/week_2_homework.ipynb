{
 "cells": [
  {
   "cell_type": "code",
   "execution_count": 1,
   "id": "c5e8f8fc-04ee-47cb-a2c7-68a4ababa79c",
   "metadata": {},
   "outputs": [],
   "source": [
    "# Imports\n",
    "import os\n",
    "import numpy as np\n",
    "import pandas as pd\n",
    "import matplotlib.pyplot as plt\n",
    "import seaborn as sns\n",
    "\n",
    "%matplotlib inline"
   ]
  },
  {
   "cell_type": "code",
   "execution_count": 2,
   "id": "e5b0cc53-b277-4b71-8657-e05fce9375f8",
   "metadata": {},
   "outputs": [],
   "source": [
    "# Download data\n",
    "if not os.path.exists('../data/laptops.csv'):\n",
    "    !wget https://raw.githubusercontent.com/alexeygrigorev/datasets/master/laptops.csv -P ../data"
   ]
  },
  {
   "cell_type": "code",
   "execution_count": 3,
   "id": "580c36f3-053c-4da8-802c-5a009006f015",
   "metadata": {},
   "outputs": [
    {
     "data": {
      "text/html": [
       "<div>\n",
       "<style scoped>\n",
       "    .dataframe tbody tr th:only-of-type {\n",
       "        vertical-align: middle;\n",
       "    }\n",
       "\n",
       "    .dataframe tbody tr th {\n",
       "        vertical-align: top;\n",
       "    }\n",
       "\n",
       "    .dataframe thead th {\n",
       "        text-align: right;\n",
       "    }\n",
       "</style>\n",
       "<table border=\"1\" class=\"dataframe\">\n",
       "  <thead>\n",
       "    <tr style=\"text-align: right;\">\n",
       "      <th></th>\n",
       "      <th>Laptop</th>\n",
       "      <th>Status</th>\n",
       "      <th>Brand</th>\n",
       "      <th>Model</th>\n",
       "      <th>CPU</th>\n",
       "      <th>RAM</th>\n",
       "      <th>Storage</th>\n",
       "      <th>Storage type</th>\n",
       "      <th>GPU</th>\n",
       "      <th>Screen</th>\n",
       "      <th>Touch</th>\n",
       "      <th>Final Price</th>\n",
       "    </tr>\n",
       "  </thead>\n",
       "  <tbody>\n",
       "    <tr>\n",
       "      <th>0</th>\n",
       "      <td>ASUS ExpertBook B1 B1502CBA-EJ0436X Intel Core...</td>\n",
       "      <td>New</td>\n",
       "      <td>Asus</td>\n",
       "      <td>ExpertBook</td>\n",
       "      <td>Intel Core i5</td>\n",
       "      <td>8</td>\n",
       "      <td>512</td>\n",
       "      <td>SSD</td>\n",
       "      <td>NaN</td>\n",
       "      <td>15.6</td>\n",
       "      <td>No</td>\n",
       "      <td>1009.00</td>\n",
       "    </tr>\n",
       "    <tr>\n",
       "      <th>1</th>\n",
       "      <td>Alurin Go Start Intel Celeron N4020/8GB/256GB ...</td>\n",
       "      <td>New</td>\n",
       "      <td>Alurin</td>\n",
       "      <td>Go</td>\n",
       "      <td>Intel Celeron</td>\n",
       "      <td>8</td>\n",
       "      <td>256</td>\n",
       "      <td>SSD</td>\n",
       "      <td>NaN</td>\n",
       "      <td>15.6</td>\n",
       "      <td>No</td>\n",
       "      <td>299.00</td>\n",
       "    </tr>\n",
       "    <tr>\n",
       "      <th>2</th>\n",
       "      <td>ASUS ExpertBook B1 B1502CBA-EJ0424X Intel Core...</td>\n",
       "      <td>New</td>\n",
       "      <td>Asus</td>\n",
       "      <td>ExpertBook</td>\n",
       "      <td>Intel Core i3</td>\n",
       "      <td>8</td>\n",
       "      <td>256</td>\n",
       "      <td>SSD</td>\n",
       "      <td>NaN</td>\n",
       "      <td>15.6</td>\n",
       "      <td>No</td>\n",
       "      <td>789.00</td>\n",
       "    </tr>\n",
       "    <tr>\n",
       "      <th>3</th>\n",
       "      <td>MSI Katana GF66 12UC-082XES Intel Core i7-1270...</td>\n",
       "      <td>New</td>\n",
       "      <td>MSI</td>\n",
       "      <td>Katana</td>\n",
       "      <td>Intel Core i7</td>\n",
       "      <td>16</td>\n",
       "      <td>1000</td>\n",
       "      <td>SSD</td>\n",
       "      <td>RTX 3050</td>\n",
       "      <td>15.6</td>\n",
       "      <td>No</td>\n",
       "      <td>1199.00</td>\n",
       "    </tr>\n",
       "    <tr>\n",
       "      <th>4</th>\n",
       "      <td>HP 15S-FQ5085NS Intel Core i5-1235U/16GB/512GB...</td>\n",
       "      <td>New</td>\n",
       "      <td>HP</td>\n",
       "      <td>15S</td>\n",
       "      <td>Intel Core i5</td>\n",
       "      <td>16</td>\n",
       "      <td>512</td>\n",
       "      <td>SSD</td>\n",
       "      <td>NaN</td>\n",
       "      <td>15.6</td>\n",
       "      <td>No</td>\n",
       "      <td>669.01</td>\n",
       "    </tr>\n",
       "  </tbody>\n",
       "</table>\n",
       "</div>"
      ],
      "text/plain": [
       "                                              Laptop Status   Brand  \\\n",
       "0  ASUS ExpertBook B1 B1502CBA-EJ0436X Intel Core...    New    Asus   \n",
       "1  Alurin Go Start Intel Celeron N4020/8GB/256GB ...    New  Alurin   \n",
       "2  ASUS ExpertBook B1 B1502CBA-EJ0424X Intel Core...    New    Asus   \n",
       "3  MSI Katana GF66 12UC-082XES Intel Core i7-1270...    New     MSI   \n",
       "4  HP 15S-FQ5085NS Intel Core i5-1235U/16GB/512GB...    New      HP   \n",
       "\n",
       "        Model            CPU  RAM  Storage Storage type       GPU  Screen  \\\n",
       "0  ExpertBook  Intel Core i5    8      512          SSD       NaN    15.6   \n",
       "1          Go  Intel Celeron    8      256          SSD       NaN    15.6   \n",
       "2  ExpertBook  Intel Core i3    8      256          SSD       NaN    15.6   \n",
       "3      Katana  Intel Core i7   16     1000          SSD  RTX 3050    15.6   \n",
       "4         15S  Intel Core i5   16      512          SSD       NaN    15.6   \n",
       "\n",
       "  Touch  Final Price  \n",
       "0    No      1009.00  \n",
       "1    No       299.00  \n",
       "2    No       789.00  \n",
       "3    No      1199.00  \n",
       "4    No       669.01  "
      ]
     },
     "execution_count": 3,
     "metadata": {},
     "output_type": "execute_result"
    }
   ],
   "source": [
    "# Read in data as DataFrame\n",
    "df = pd.read_csv('../data/laptops.csv')\n",
    "df.head()"
   ]
  },
  {
   "cell_type": "code",
   "execution_count": 4,
   "id": "e4bd1b9b-ac50-442f-9895-5acf6f49e020",
   "metadata": {},
   "outputs": [],
   "source": [
    "# Normalize column names\n",
    "df.columns = df.columns.str.lower().str.replace(' ', '_')"
   ]
  },
  {
   "cell_type": "code",
   "execution_count": 5,
   "id": "35cf3014-7057-4bc8-9357-6dfe83ae80f4",
   "metadata": {},
   "outputs": [
    {
     "data": {
      "text/html": [
       "<div>\n",
       "<style scoped>\n",
       "    .dataframe tbody tr th:only-of-type {\n",
       "        vertical-align: middle;\n",
       "    }\n",
       "\n",
       "    .dataframe tbody tr th {\n",
       "        vertical-align: top;\n",
       "    }\n",
       "\n",
       "    .dataframe thead th {\n",
       "        text-align: right;\n",
       "    }\n",
       "</style>\n",
       "<table border=\"1\" class=\"dataframe\">\n",
       "  <thead>\n",
       "    <tr style=\"text-align: right;\">\n",
       "      <th></th>\n",
       "      <th>ram</th>\n",
       "      <th>storage</th>\n",
       "      <th>screen</th>\n",
       "      <th>final_price</th>\n",
       "    </tr>\n",
       "  </thead>\n",
       "  <tbody>\n",
       "    <tr>\n",
       "      <th>0</th>\n",
       "      <td>8</td>\n",
       "      <td>512</td>\n",
       "      <td>15.6</td>\n",
       "      <td>1009.00</td>\n",
       "    </tr>\n",
       "    <tr>\n",
       "      <th>1</th>\n",
       "      <td>8</td>\n",
       "      <td>256</td>\n",
       "      <td>15.6</td>\n",
       "      <td>299.00</td>\n",
       "    </tr>\n",
       "    <tr>\n",
       "      <th>2</th>\n",
       "      <td>8</td>\n",
       "      <td>256</td>\n",
       "      <td>15.6</td>\n",
       "      <td>789.00</td>\n",
       "    </tr>\n",
       "    <tr>\n",
       "      <th>3</th>\n",
       "      <td>16</td>\n",
       "      <td>1000</td>\n",
       "      <td>15.6</td>\n",
       "      <td>1199.00</td>\n",
       "    </tr>\n",
       "    <tr>\n",
       "      <th>4</th>\n",
       "      <td>16</td>\n",
       "      <td>512</td>\n",
       "      <td>15.6</td>\n",
       "      <td>669.01</td>\n",
       "    </tr>\n",
       "  </tbody>\n",
       "</table>\n",
       "</div>"
      ],
      "text/plain": [
       "   ram  storage  screen  final_price\n",
       "0    8      512    15.6      1009.00\n",
       "1    8      256    15.6       299.00\n",
       "2    8      256    15.6       789.00\n",
       "3   16     1000    15.6      1199.00\n",
       "4   16      512    15.6       669.01"
      ]
     },
     "execution_count": 5,
     "metadata": {},
     "output_type": "execute_result"
    }
   ],
   "source": [
    "# Columns to subset\n",
    "subset_cols = ['ram', 'storage', 'screen', 'final_price']\n",
    "df_subset = df[subset_cols]\n",
    "df_subset.head()"
   ]
  },
  {
   "cell_type": "code",
   "execution_count": 6,
   "id": "88f64538-ee6c-452a-8be5-e0a4236d47c7",
   "metadata": {},
   "outputs": [
    {
     "data": {
      "text/plain": [
       "screen    4\n",
       "dtype: int64"
      ]
     },
     "execution_count": 6,
     "metadata": {},
     "output_type": "execute_result"
    }
   ],
   "source": [
    "# Question 1: There's one column with missing values. What is it?\n",
    "missing_vals = df_subset.isnull().sum()\n",
    "missing_vals[missing_vals > 0] # 'screen' column"
   ]
  },
  {
   "cell_type": "code",
   "execution_count": 7,
   "id": "1dd55e61-5e8d-472e-82dd-35e8492399a3",
   "metadata": {},
   "outputs": [
    {
     "data": {
      "text/plain": [
       "16.0"
      ]
     },
     "execution_count": 7,
     "metadata": {},
     "output_type": "execute_result"
    }
   ],
   "source": [
    "# Question 2: What's the median (50% percentile) for variable 'ram'?\n",
    "df_subset['ram'].describe()['50%']"
   ]
  },
  {
   "cell_type": "code",
   "execution_count": 8,
   "id": "b6d5cf9c-e02d-4f18-9f7c-f85a712f1d2a",
   "metadata": {},
   "outputs": [],
   "source": [
    "# Code to shuffle and split the dataset into train/valid/test sets (60-20-20 split)\n",
    "\n",
    "def prepare_datasets(seed):\n",
    "    # Calculate split sizes\n",
    "    n = df_subset.shape[0]\n",
    "    n_valid = int(n * 0.2)\n",
    "    n_test = int(n * 0.2)\n",
    "    n_train = n - n_valid - n_test\n",
    "    \n",
    "    # Seed random number generator and shuffle index\n",
    "    idx = np.arange(n)\n",
    "    np.random.seed(seed)\n",
    "    np.random.shuffle(idx)\n",
    "    \n",
    "    # Select train, valid, and test subsets\n",
    "    df_train = df_subset.iloc[idx[:n_train]]\n",
    "    df_valid = df_subset.iloc[idx[n_train:n_train + n_valid]]\n",
    "    df_test = df_subset.iloc[idx[n_train + n_valid:]]\n",
    "    \n",
    "    # Reset the index for dataframes after shuffling\n",
    "    df_train = df_train.reset_index(drop=True)\n",
    "    df_valid = df_valid.reset_index(drop=True)\n",
    "    df_test = df_test.reset_index(drop=True)\n",
    "    \n",
    "    # Separate the target variable (final_price) from the predictor variables\n",
    "    y_train = df_train['final_price'].values\n",
    "    y_valid = df_valid['final_price'].values\n",
    "    y_test = df_test['final_price'].values\n",
    "    \n",
    "    # Remove target variable from the feature matrix\n",
    "    del df_train['final_price']\n",
    "    del df_valid['final_price']\n",
    "    del df_test['final_price']\n",
    "\n",
    "    return df_train, df_valid, df_test, y_train, y_valid, y_test"
   ]
  },
  {
   "cell_type": "code",
   "execution_count": 9,
   "id": "4491853e-79ff-4666-a1b8-0193a623c598",
   "metadata": {},
   "outputs": [],
   "source": [
    "# Code to train a linear regression model\n",
    "\n",
    "# Function for training linear regression model with regularization\n",
    "def train_linear_regression(X, y, r=0.0):\n",
    "    # Trick to absorb bias parameter into matrix product\n",
    "    ones = np.ones(X.shape[0])\n",
    "    X = np.column_stack([ones, X])\n",
    "    # Regularize gram matrix to stabilize inverse, and estimate w via left-inverse\n",
    "    XTX_inv = np.linalg.inv(X.T.dot(X) + r * np.eye(X.shape[1]))\n",
    "    w = XTX_inv.dot(X.T).dot(y)\n",
    "\n",
    "    # Return tuple (bias, weights)\n",
    "    return (w[0], w[1:])\n",
    "\n",
    "# Linear regression hypothesis function\n",
    "def linear_regression_model(X, w0, w):\n",
    "    return w0 + X.dot(w)\n",
    "\n",
    "# RMSE\n",
    "def rmse(y, y_pred):\n",
    "    return np.sqrt(((y - y_pred) ** 2).mean())"
   ]
  },
  {
   "cell_type": "code",
   "execution_count": 10,
   "id": "f80d4f31-67bb-4f9d-a43c-8524c0ff0958",
   "metadata": {},
   "outputs": [],
   "source": [
    "# For questions 3 and 4: generate train, valid, and test sets with seed=42\n",
    "df_train, df_valid, df_test, y_train, y_valid, y_test = prepare_datasets(seed=42)"
   ]
  },
  {
   "cell_type": "code",
   "execution_count": 11,
   "id": "3636de37-5b0b-48c9-b14a-533f34694a10",
   "metadata": {},
   "outputs": [],
   "source": [
    "# Question 3:\n",
    "# We need to deal with missing values for the column from Q1.\n",
    "# We have two options: fill it with 0 or with the mean of this variable.\n",
    "# Try both options. For each, train a linear regression model without regularization using the code from the lessons.\n",
    "# For computing the mean, use the training only!\n",
    "# Use the validation dataset to evaluate the models and compare the RMSE of each option.\n",
    "# Round the RMSE scores to 2 decimal digits using round(score, 2)\n",
    "# Which option gives better RMSE?\n",
    "\n",
    "# Options: With 0, With mean, Both are equally good"
   ]
  },
  {
   "cell_type": "code",
   "execution_count": 12,
   "id": "f9bc4b29-489e-4187-a50f-8a9a6d1ef5c9",
   "metadata": {},
   "outputs": [
    {
     "data": {
      "text/plain": [
       "597.36"
      ]
     },
     "execution_count": 12,
     "metadata": {},
     "output_type": "execute_result"
    }
   ],
   "source": [
    "# Question 3a: Impute missing values with zero and train model\n",
    "\n",
    "# Create feature matrices with NaN values imputed with zero\n",
    "X_train_zero = df_train.fillna(0, inplace=False).values\n",
    "X_valid_zero = df_valid.fillna(0, inplace=False).values\n",
    "X_test_zero = df_test.fillna(0, inplace=False).values\n",
    "\n",
    "# Train linear regression model and compute validation RMSE\n",
    "w0, w = train_linear_regression(X_train_zero, y_train)\n",
    "y_pred = linear_regression_model(X_valid_zero, w0, w)\n",
    "round(rmse(y_valid, y_pred), 2)"
   ]
  },
  {
   "cell_type": "code",
   "execution_count": 13,
   "id": "38723d49-5636-4b84-a21c-dd8ce4e841c4",
   "metadata": {},
   "outputs": [
    {
     "data": {
      "text/plain": [
       "600.27"
      ]
     },
     "execution_count": 13,
     "metadata": {},
     "output_type": "execute_result"
    }
   ],
   "source": [
    "# Question 3b: Impute missing values with mean and train model\n",
    "\n",
    "# Compute mean of feature with NaN values from training set\n",
    "mean_value = df_train['screen'].mean()\n",
    "\n",
    "# Create copies of train, valid, test dfs and perform mean imputation\n",
    "df_train_mean = df_train.copy()\n",
    "df_valid_mean = df_valid.copy()\n",
    "df_test_mean = df_test.copy()\n",
    "\n",
    "df_train_mean['screen'] = df_train_mean['screen'].fillna(mean_value)\n",
    "df_valid_mean['screen'] = df_valid_mean['screen'].fillna(mean_value)\n",
    "df_test_mean['screen'] = df_test_mean['screen'].fillna(mean_value)\n",
    "\n",
    "X_train_mean = df_train_mean.values\n",
    "X_valid_mean = df_valid_mean.values\n",
    "X_test_mean = df_test_mean.values\n",
    "\n",
    "# Train linear regression model and compute validation RMSE\n",
    "w0, w = train_linear_regression(X_train_mean, y_train)\n",
    "y_pred = linear_regression_model(X_valid_mean, w0, w)\n",
    "round(rmse(y_valid, y_pred), 2)"
   ]
  },
  {
   "cell_type": "code",
   "execution_count": 14,
   "id": "e4ca1e25-dd8f-4cc6-8e9a-9f4c70a7fd09",
   "metadata": {},
   "outputs": [
    {
     "name": "stdout",
     "output_type": "stream",
     "text": [
      "r: 0\trmse:597.36\n",
      "r: 0.01\trmse:597.36\n",
      "r: 0.1\trmse:597.35\n",
      "r: 1\trmse:597.21\n",
      "r: 5\trmse:597.01\n",
      "r: 10\trmse:597.06\n",
      "r: 100\trmse:597.9\n",
      "Optimal r: 10\n"
     ]
    }
   ],
   "source": [
    "# Question 4:\n",
    "# Now let's train a regularized linear regression.\n",
    "# For this question, fill the NAs with 0.\n",
    "# Try different values of r from this list: [0, 0.01, 0.1, 1, 5, 10, 100].\n",
    "# Use RMSE to evaluate the model on the validation dataset.\n",
    "# Round the RMSE scores to 2 decimal digits.\n",
    "# Which r gives the best RMSE?\n",
    "# If there are multiple options, select the smallest r.\n",
    "\n",
    "# Options: 0, 0.01, 1, 10, 100\n",
    "\n",
    "# All values of r that we want to evaluate\n",
    "r_values = [0, 0.01, 0.1, 1, 5, 10, 100]\n",
    "combinations = []\n",
    "\n",
    "# Cycle through candidate values of r and train model for each value, recording val RMSE\n",
    "for r in r_values:\n",
    "    w0, w = train_linear_regression(X_train_zero, y_train, r=r)\n",
    "    y_pred = linear_regression_model(X_valid_zero, w0, w)\n",
    "    combinations.append([r, round(rmse(y_valid, y_pred), 2)])\n",
    "    print('r: %s\\trmse:%s' % (r, round(rmse(y_valid, y_pred), 2)))\n",
    "\n",
    "# Select optimal regularization strength r as the one that minimizes validation RMSE\n",
    "choices = [0, 0.01, 1, 10, 100]\n",
    "filtered_combinations = list(filter(lambda x : x[0] in choices, combinations))\n",
    "r_opt = sorted(filtered_combinations, key=lambda x : x[1])[0][0]\n",
    "print('Optimal r: %s' % r_opt)"
   ]
  },
  {
   "cell_type": "code",
   "execution_count": 15,
   "id": "423f2316-6133-49cc-a74e-89ebfe4fca17",
   "metadata": {},
   "outputs": [
    {
     "data": {
      "text/plain": [
       "29.176"
      ]
     },
     "execution_count": 15,
     "metadata": {},
     "output_type": "execute_result"
    }
   ],
   "source": [
    "# Question 5\n",
    "# We used seed 42 for splitting the data. Let's find out how selecting the seed influences our score.\n",
    "# Try different seed values: [0, 1, 2, 3, 4, 5, 6, 7, 8, 9].\n",
    "# For each seed, do the train/validation/test split with 60%/20%/20% distribution.\n",
    "# Fill the missing values with 0 and train a model without regularization.\n",
    "# For each seed, evaluate the model on the validation dataset and collect the RMSE scores.\n",
    "# What's the standard deviation of all the scores? To compute the standard deviation, use np.std.\n",
    "# Round the result to 3 decimal digits (round(std, 3))\n",
    "# What's the value of std? 19.176 29.176 39.176 49.176\n",
    "\n",
    "# All seed values that we want to evaluate\n",
    "seed_candidates = [0, 1, 2, 3, 4, 5, 6, 7, 8, 9]\n",
    "validation_scores = []\n",
    "for seed in seed_candidates:\n",
    "    # Generate train, valid, and test sets with the current seed value\n",
    "    df_train, df_valid, df_test, y_train, y_valid, y_test = prepare_datasets(seed=seed)\n",
    "\n",
    "    # Create feature matrices with NaN values imputed with zero\n",
    "    X_train_zero = df_train.fillna(0, inplace=False).values\n",
    "    X_valid_zero = df_valid.fillna(0, inplace=False).values\n",
    "    \n",
    "    # Train linear regression model and compute validation RMSE\n",
    "    w0, w = train_linear_regression(X_train_zero, y_train)\n",
    "    y_pred = linear_regression_model(X_valid_zero, w0, w)\n",
    "    validation_scores.append(rmse(y_valid, y_pred))\n",
    "\n",
    "# Report the standard deviation of the validation RMSE across seed values\n",
    "round(np.std(validation_scores), 3)"
   ]
  },
  {
   "cell_type": "code",
   "execution_count": 16,
   "id": "e2b55919-6996-4d02-85c4-a5eb1895820b",
   "metadata": {},
   "outputs": [
    {
     "data": {
      "text/plain": [
       "608.61"
      ]
     },
     "execution_count": 16,
     "metadata": {},
     "output_type": "execute_result"
    }
   ],
   "source": [
    "# Question 6\n",
    "# Split the dataset like previously, use seed 9.\n",
    "# Combine train and validation datasets.\n",
    "# Fill the missing values with 0 and train a model with r=0.001.\n",
    "# What's the RMSE on the test dataset?\n",
    "# Options: 598.60 608.60 618.60 628.60\n",
    "\n",
    "# Generate train, valid, and test sets with seed=9\n",
    "df_train, df_valid, df_test, y_train, y_valid, y_test = prepare_datasets(seed=9)\n",
    "\n",
    "# Combine train and valid sets to create the full training set\n",
    "df_full_train = pd.concat([df_train, df_valid]).fillna(0).reset_index(drop=True)\n",
    "X_full_train = df_full_train.values\n",
    "y_full_train = np.concatenate([y_train, y_valid])\n",
    "\n",
    "# Create test feature matrix\n",
    "X_test_zero = df_test.fillna(0, inplace=False).values\n",
    "\n",
    "# Train linear regression model and compute test RMSE\n",
    "w0, w = train_linear_regression(X_full_train, y_full_train)\n",
    "y_pred = linear_regression_model(X_test_zero, w0, w)\n",
    "round(rmse(y_test, y_pred), 2)"
   ]
  },
  {
   "cell_type": "code",
   "execution_count": null,
   "id": "9036399c-4696-4c4b-a74d-53e0b93df73a",
   "metadata": {},
   "outputs": [],
   "source": []
  }
 ],
 "metadata": {
  "kernelspec": {
   "display_name": "Python 3 (ipykernel)",
   "language": "python",
   "name": "python3"
  },
  "language_info": {
   "codemirror_mode": {
    "name": "ipython",
    "version": 3
   },
   "file_extension": ".py",
   "mimetype": "text/x-python",
   "name": "python",
   "nbconvert_exporter": "python",
   "pygments_lexer": "ipython3",
   "version": "3.11.9"
  }
 },
 "nbformat": 4,
 "nbformat_minor": 5
}
